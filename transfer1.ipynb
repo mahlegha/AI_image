{
  "nbformat": 4,
  "nbformat_minor": 0,
  "metadata": {
    "colab": {
      "provenance": [],
      "mount_file_id": "1TSar_wq9ab2sfQz6f1VpBiZOTnwdA6kY",
      "authorship_tag": "ABX9TyOlXtlWpzQwKdoJO4OTQCkG",
      "include_colab_link": true
    },
    "kernelspec": {
      "name": "python3",
      "display_name": "Python 3"
    },
    "language_info": {
      "name": "python"
    }
  },
  "cells": [
    {
      "cell_type": "markdown",
      "metadata": {
        "id": "view-in-github",
        "colab_type": "text"
      },
      "source": [
        "<a href=\"https://colab.research.google.com/github/mahlegha/AI_image/blob/main/transfer1.ipynb\" target=\"_parent\"><img src=\"https://colab.research.google.com/assets/colab-badge.svg\" alt=\"Open In Colab\"/></a>"
      ]
    },
    {
      "cell_type": "code",
      "source": [
        "from google.colab import drive\n",
        "drive.mount('/content/drive')"
      ],
      "metadata": {
        "id": "8-xc1wMetc1j",
        "colab": {
          "base_uri": "https://localhost:8080/"
        },
        "outputId": "6d39992e-59ee-466d-d350-6aea3d1b8289"
      },
      "execution_count": null,
      "outputs": [
        {
          "output_type": "stream",
          "name": "stdout",
          "text": [
            "Drive already mounted at /content/drive; to attempt to forcibly remount, call drive.mount(\"/content/drive\", force_remount=True).\n"
          ]
        }
      ]
    },
    {
      "cell_type": "code",
      "source": [
        "import sys\n",
        "sys.path.insert(0, '/content/drive/My Drive/colabnotebooks')"
      ],
      "metadata": {
        "id": "O8vkXBq1yjlR"
      },
      "execution_count": null,
      "outputs": []
    },
    {
      "cell_type": "code",
      "source": [
        "# ! cp /content/drive/MyDrive/Colab\\ Notebooks/config.ipynb /content"
      ],
      "metadata": {
        "id": "Mfy-VLfXwsjz"
      },
      "execution_count": null,
      "outputs": []
    },
    {
      "cell_type": "code",
      "execution_count": 1,
      "metadata": {
        "id": "xCF_7ioJon2Y"
      },
      "outputs": [],
      "source": [
        "! pip install -q kaggle"
      ]
    },
    {
      "cell_type": "code",
      "source": [
        "from google.colab import files"
      ],
      "metadata": {
        "id": "vB_RdWgVopSC"
      },
      "execution_count": 2,
      "outputs": []
    },
    {
      "cell_type": "code",
      "source": [
        "files.upload()"
      ],
      "metadata": {
        "id": "QK8sD7mEo3bx"
      },
      "execution_count": null,
      "outputs": []
    },
    {
      "cell_type": "code",
      "source": [
        "! mkdir ~/.kaggle"
      ],
      "metadata": {
        "id": "sYeI2vFTo60f"
      },
      "execution_count": 4,
      "outputs": []
    },
    {
      "cell_type": "code",
      "source": [
        "! cp kaggle.json ~/.kaggle/"
      ],
      "metadata": {
        "id": "X29DCAQK4bn3"
      },
      "execution_count": 5,
      "outputs": []
    },
    {
      "cell_type": "code",
      "source": [
        "! chmod 600 ~/.kaggle/kaggle.json"
      ],
      "metadata": {
        "id": "PPAWQRmMpIjJ"
      },
      "execution_count": 6,
      "outputs": []
    },
    {
      "cell_type": "code",
      "source": [
        "!kaggle datasets download -d binhminhs10/food5k"
      ],
      "metadata": {
        "id": "Z7YGns-VpOIM"
      },
      "execution_count": null,
      "outputs": []
    },
    {
      "cell_type": "code",
      "source": [
        "!unzip food5k.zip"
      ],
      "metadata": {
        "id": "vuIa8FpRpViD"
      },
      "execution_count": null,
      "outputs": []
    },
    {
      "cell_type": "code",
      "source": [
        "path = '/content/food-5k/Food-5K/training/*'"
      ],
      "metadata": {
        "id": "xcd7dd73pdWy"
      },
      "execution_count": 9,
      "outputs": []
    },
    {
      "cell_type": "code",
      "source": [
        "IMAGE_SIZE = [224, 224, 3]"
      ],
      "metadata": {
        "id": "DlWoEdnspnbh"
      },
      "execution_count": 10,
      "outputs": []
    },
    {
      "cell_type": "code",
      "source": [
        "# import cv2"
      ],
      "metadata": {
        "id": "XB0jZ_mC7Lib"
      },
      "execution_count": null,
      "outputs": []
    },
    {
      "cell_type": "code",
      "source": [
        "# im = cv2.imread('food-5k/Food-5K/training/0_808.jpg')\n",
        "# print(type(im))\n",
        "# print(im.shape)\n",
        "# print(type(im.shape))"
      ],
      "metadata": {
        "id": "4yGQEPmWpyVY"
      },
      "execution_count": null,
      "outputs": []
    },
    {
      "cell_type": "code",
      "source": [
        "# from IPython.display import display\n",
        "# from PIL import Image\n",
        "\n",
        "# display(Image.open('food-5k/Food-5K/training/0_1385.jpg'))"
      ],
      "metadata": {
        "id": "RDa-rXF5pqUC"
      },
      "execution_count": null,
      "outputs": []
    },
    {
      "cell_type": "code",
      "source": [
        "from tensorflow.keras.applications.vgg16 import VGG16\n",
        "from tensorflow.keras.applications.vgg16 import preprocess_input\n",
        "from keras.layers import Input, Dense, Lambda, Flatten\n",
        "from keras.models import Model\n",
        "from keras.preprocessing import image"
      ],
      "metadata": {
        "id": "UZDFCmGxt-ei"
      },
      "execution_count": 11,
      "outputs": []
    },
    {
      "cell_type": "code",
      "source": [
        "vgg = VGG16(input_shape=IMAGE_SIZE, include_top=False, weights='imagenet')"
      ],
      "metadata": {
        "id": "kV_VeHzN7Aoe"
      },
      "execution_count": null,
      "outputs": []
    },
    {
      "cell_type": "code",
      "source": [
        "vgg.input"
      ],
      "metadata": {
        "colab": {
          "base_uri": "https://localhost:8080/"
        },
        "id": "MBRWFvn-7gd7",
        "outputId": "a69bc82c-1392-41e5-c8c0-b9bec90d7fb8"
      },
      "execution_count": 19,
      "outputs": [
        {
          "output_type": "execute_result",
          "data": {
            "text/plain": [
              "<KerasTensor: shape=(None, 224, 224, 3) dtype=float32 (created by layer 'input_1')>"
            ]
          },
          "metadata": {},
          "execution_count": 19
        }
      ]
    },
    {
      "cell_type": "code",
      "source": [
        "for layer in vgg.layers:\n",
        "  layer.trainable = False"
      ],
      "metadata": {
        "id": "VamCfHbp7zrk"
      },
      "execution_count": 14,
      "outputs": []
    },
    {
      "cell_type": "code",
      "source": [
        "import glob"
      ],
      "metadata": {
        "id": "mjRHHUaB90Lj"
      },
      "execution_count": 15,
      "outputs": []
    },
    {
      "cell_type": "code",
      "source": [
        "folders = glob.glob(path)\n",
        "print(len(folders))"
      ],
      "metadata": {
        "id": "mIEvAjph9Qka"
      },
      "execution_count": null,
      "outputs": []
    },
    {
      "cell_type": "code",
      "source": [
        "print(vgg.output)"
      ],
      "metadata": {
        "colab": {
          "base_uri": "https://localhost:8080/"
        },
        "id": "Dd0Aet78sahQ",
        "outputId": "4892f2d8-63b1-43f2-e66f-927310e83edc"
      },
      "execution_count": 20,
      "outputs": [
        {
          "output_type": "stream",
          "name": "stdout",
          "text": [
            "KerasTensor(type_spec=TensorSpec(shape=(None, 7, 7, 512), dtype=tf.float32, name=None), name='block5_pool/MaxPool:0', description=\"created by layer 'block5_pool'\")\n"
          ]
        }
      ]
    },
    {
      "cell_type": "code",
      "source": [
        "x = Flatten()(vgg.output)\n",
        "prediction = Dense(len(folders), activation='softmax')(x)\n",
        "model = Model(inputs=vgg.input, outputs=prediction)\n",
        "model.summary()"
      ],
      "metadata": {
        "id": "j867lvVd9nli",
        "colab": {
          "base_uri": "https://localhost:8080/"
        },
        "outputId": "864bbca0-a4d9-4be9-cbd7-c7faa4716a04"
      },
      "execution_count": 22,
      "outputs": [
        {
          "output_type": "stream",
          "name": "stdout",
          "text": [
            "(None, 25088)\n",
            "(None, 3000)\n",
            "<keras.engine.functional.Functional object at 0x7db417519270>\n"
          ]
        }
      ]
    },
    {
      "cell_type": "code",
      "source": [
        "# Resize images from food-5k to 224*224\n",
        "# Batch images in 32 batches"
      ],
      "metadata": {
        "id": "w3uKXGz0LH9G"
      },
      "execution_count": null,
      "outputs": []
    },
    {
      "cell_type": "code",
      "source": [
        "features = model.predict()"
      ],
      "metadata": {
        "id": "qqI4bM3gqR2X"
      },
      "execution_count": null,
      "outputs": []
    }
  ]
}