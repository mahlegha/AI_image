{
  "nbformat": 4,
  "nbformat_minor": 0,
  "metadata": {
    "colab": {
      "provenance": [],
      "authorship_tag": "ABX9TyP2LZoWMQdVfUdVit6Rv91X",
      "include_colab_link": true
    },
    "kernelspec": {
      "name": "python3",
      "display_name": "Python 3"
    },
    "language_info": {
      "name": "python"
    }
  },
  "cells": [
    {
      "cell_type": "markdown",
      "metadata": {
        "id": "view-in-github",
        "colab_type": "text"
      },
      "source": [
        "<a href=\"https://colab.research.google.com/github/mahlegha/AI_image/blob/main/food5k.ipynb\" target=\"_parent\"><img src=\"https://colab.research.google.com/assets/colab-badge.svg\" alt=\"Open In Colab\"/></a>"
      ]
    },
    {
      "cell_type": "code",
      "execution_count": 1,
      "metadata": {
        "id": "KQIV5DU16-fy"
      },
      "outputs": [],
      "source": [
        "! pip install -q kaggle"
      ]
    },
    {
      "cell_type": "code",
      "source": [
        " from google.colab import files"
      ],
      "metadata": {
        "id": "YtM_mLts7XR4"
      },
      "execution_count": 2,
      "outputs": []
    },
    {
      "cell_type": "code",
      "source": [
        " files.upload()"
      ],
      "metadata": {
        "id": "MdNlecV9fnLe"
      },
      "execution_count": null,
      "outputs": []
    },
    {
      "cell_type": "code",
      "source": [
        " ! mkdir ~/.kaggle"
      ],
      "metadata": {
        "id": "3DJykbcNfqSw"
      },
      "execution_count": 4,
      "outputs": []
    },
    {
      "cell_type": "code",
      "source": [
        "! cp kaggle.json ~/.kaggle/"
      ],
      "metadata": {
        "id": "kHTdZOxDf4Or"
      },
      "execution_count": 5,
      "outputs": []
    },
    {
      "cell_type": "code",
      "source": [
        "! chmod 600 ~/.kaggle/kaggle.json"
      ],
      "metadata": {
        "id": "oArb2_rRf8At"
      },
      "execution_count": 6,
      "outputs": []
    },
    {
      "cell_type": "code",
      "source": [
        "! kaggle datasets list"
      ],
      "metadata": {
        "id": "_jqq_4rCgBSJ"
      },
      "execution_count": null,
      "outputs": []
    },
    {
      "cell_type": "code",
      "source": [
        "!kaggle datasets download -d binhminhs10/food5k"
      ],
      "metadata": {
        "id": "jmDwm6H9gGJL"
      },
      "execution_count": null,
      "outputs": []
    },
    {
      "cell_type": "code",
      "source": [
        "!unzip food5k.zip"
      ],
      "metadata": {
        "id": "nF4G2u1snuVy"
      },
      "execution_count": null,
      "outputs": []
    },
    {
      "cell_type": "code",
      "source": [
        "#config.py"
      ],
      "metadata": {
        "id": "jFMtmAA8JCP2"
      },
      "execution_count": null,
      "outputs": []
    },
    {
      "cell_type": "code",
      "source": [
        "import os"
      ],
      "metadata": {
        "id": "iy2bM9FQoFdF"
      },
      "execution_count": 9,
      "outputs": []
    },
    {
      "cell_type": "code",
      "source": [
        "ORIGINAL_INPUT_DATASET = \"Food-5k\"\n",
        "BASE_PATH = \"dataset\""
      ],
      "metadata": {
        "id": "Nt6292CzC5YP"
      },
      "execution_count": 10,
      "outputs": []
    },
    {
      "cell_type": "code",
      "source": [
        "TRAIN = \"training\"\n",
        "VAL = \"validation\"\n",
        "TEST = \"evaluation\"\n",
        "\n",
        "CLASSES = [\"non_food\", \"food\"]\n",
        "\n",
        "BATCH_SIZE = 32"
      ],
      "metadata": {
        "id": "TZZsfXXLDTk8"
      },
      "execution_count": 12,
      "outputs": []
    },
    {
      "cell_type": "code",
      "source": [
        "lE_PATH = os.path.sep.join([\"output\", \"le.cpickle\"])\n",
        "BASE_CSV_PATH = \"output\"\n",
        "\n",
        "MODEL_PATH = os.path.sep.join([\"output\", \"model.cpickle\"])"
      ],
      "metadata": {
        "id": "zk91E-5DD_6w"
      },
      "execution_count": 13,
      "outputs": []
    },
    {
      "cell_type": "code",
      "source": [
        "#build_dataset.py"
      ],
      "metadata": {
        "id": "EsDD6B8OGKEd"
      },
      "execution_count": null,
      "outputs": []
    },
    {
      "cell_type": "code",
      "source": [
        "#import config.py\n",
        "#from imutils import paths\n",
        "#import shutil\n",
        "#import os\n",
        "\n",
        "#for split in (config.TRAIN, config.TEST, config.VAL):\n",
        "#  print(\"[INFO] processing '{} split'...\".format(split))\n",
        "#  p = os.path.sep.join([config.ORIGINAL_INPUT_DATASET, split])\n",
        "#  imagePaths = list(paths.list_images)"
      ],
      "metadata": {
        "id": "MvvGQF6LJJO-"
      },
      "execution_count": 15,
      "outputs": []
    },
    {
      "cell_type": "code",
      "source": [
        "\t# # loop over the image paths\n",
        "\t# for imagePath in imagePaths:\n",
        "\t# \t# extract class label from the filename\n",
        "\t# \tfilename = imagePath.split(os.path.sep)[-1]\n",
        "\t# \tlabel = config.CLASSES[int(filename.split(\"_\")[0])]\n",
        "\t# \t# construct the path to the output directory\n",
        "\t# \tdirPath = os.path.sep.join([config.BASE_PATH, split, label])\n",
        "\t# \t# if the output directory does not exist, create it\n",
        "\t# \tif not os.path.exists(dirPath):\n",
        "\t# \t\tos.makedirs(dirPath)\n",
        "\t# \t# construct the path to the output image file and copy it\n",
        "\t# \tp = os.path.sep.join([dirPath, filename])\n",
        "\t# \tshutil.copy2(imagePath, p)"
      ],
      "metadata": {
        "id": "iqLFCztzpf3p"
      },
      "execution_count": 16,
      "outputs": []
    },
    {
      "cell_type": "code",
      "source": [],
      "metadata": {
        "id": "7mmEsxvFquYC"
      },
      "execution_count": null,
      "outputs": []
    }
  ]
}